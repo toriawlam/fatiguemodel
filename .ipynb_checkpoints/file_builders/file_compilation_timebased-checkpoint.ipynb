{
 "cells": [
  {
   "cell_type": "code",
   "execution_count": 36,
   "id": "94b77248-6ea9-47a5-beb8-4b99df07a7e7",
   "metadata": {},
   "outputs": [],
   "source": [
    "# compiling files based on hour before fatigue surveys recorded\n",
    "\n",
    "from pathlib import Path\n",
    "from collections import namedtuple\n",
    "from zoneinfo import ZoneInfo\n",
    "from datetime import datetime\n",
    "import os\n",
    "import glob\n",
    "import json\n",
    "import pandas as pd\n",
    "import numpy as np"
   ]
  },
  {
   "cell_type": "code",
   "execution_count": 38,
   "id": "97a4cd33-e487-4235-b5ee-e80b559250a6",
   "metadata": {},
   "outputs": [],
   "source": [
    "def timestamp_avg_hr(csv_file):\n",
    "    list_avg_hr = []\n",
    "    list_day_hr = []\n",
    "    \n",
    "    df = pd.read_csv(csv_file)\n",
    "\n",
    "    if df.empty or 'timestamp' not in df.columns or 'heartrate' not in df.columns:\n",
    "        return [],[]\n",
    "\n",
    "    unix_val = df['timestamp'].loc[0]\n",
    "    temp_hr_sum = 0\n",
    "    counter = 0\n",
    "\n",
    "    for i in range(1,len(df['timestamp'])): # iterates through each row\n",
    "        timestamp = df['timestamp'].loc[i] # the timestamp value at that row\n",
    "        temp_hour_curr = datetime.fromtimestamp(timestamp,tz=ZoneInfo(\"America/New_York\")).hour # hour (int)\n",
    "        temp_hour_prev = datetime.fromtimestamp(df['timestamp'].loc[i-1],tz=ZoneInfo(\"America/New_York\")).hour\n",
    "        \n",
    "        if temp_hour_curr == 11:\n",
    "            counter += 1\n",
    "            temp_hr_sum += df['heartrate'].loc[i]\n",
    "            unix_val = timestamp\n",
    "        elif temp_hour_curr != 11 and temp_hour_prev == 11: # and last hour was 11\n",
    "            if (counter != 0):\n",
    "                list_day_hr.append(unix_val) # add day to list\n",
    "                avg_hr = temp_hr_sum/counter\n",
    "                list_avg_hr.append(avg_hr)\n",
    "\n",
    "                temp_hr_sum = 0\n",
    "                counter = 0\n",
    "\n",
    "    # for last day otherwise not included\n",
    "    if (counter != 0):\n",
    "        unix_val = df['timestamp'].loc[len(df.index)-1]\n",
    "        list_day_hr.append(unix_val)\n",
    "        avg_hr = temp_hr_sum/counter\n",
    "        list_avg_hr.append(avg_hr)\n",
    "            \n",
    "    return list_avg_hr, list_day_hr"
   ]
  },
  {
   "cell_type": "code",
   "execution_count": 62,
   "id": "df94b256-a509-4e42-9993-256bc358399d",
   "metadata": {},
   "outputs": [],
   "source": [
    "# steps!\n",
    "\n",
    "def timestamp_total_step(csv_file):\n",
    "    list_total_step = []\n",
    "    list_day_step = []\n",
    "    \n",
    "    df = pd.read_csv(csv_file)\n",
    "\n",
    "    if df.empty or 'stop' not in df.columns or 'steps' not in df.columns:\n",
    "        return [],[]\n",
    "    \n",
    "    unix_val = df['stop'].loc[0]\n",
    "    temp_day_prev = datetime.fromtimestamp(df['stop'].loc[0]).day\n",
    "    temp_total_step = 0\n",
    "\n",
    "    for i in range(1,len(df['stop'])): # iterates through each row\n",
    "        timestamp = df['stop'].loc[i] # the timestamp value at that row\n",
    "        temp_hour_curr = datetime.fromtimestamp(timestamp,tz=ZoneInfo(\"America/New_York\")).hour # hour (int)\n",
    "        temp_hour_prev = datetime.fromtimestamp(df['stop'].loc[i-1],tz=ZoneInfo(\"America/New_York\")).hour\n",
    "        \n",
    "        if temp_hour_curr == 11:\n",
    "            temp_total_step += df['steps'].loc[i]\n",
    "            unix_val = timestamp\n",
    "        elif temp_hour_curr != 11 and temp_hour_prev == 11: # and last hour was 11\n",
    "            list_day_step.append(unix_val) # add day to list\n",
    "            list_total_step.append(temp_total_step)\n",
    "            \n",
    "            temp_total_step = 0\n",
    "    \n",
    "    return list_total_step, list_day_step\n",
    "\n",
    "# get list of promis score csv (found) -- time is from 11-12\n",
    "# using patient_id and month/day, correspond with combined heartrate and steps csv files\n",
    "# find average heartrate from 11-12 on those days\n",
    "# find steps from 11-12 on those days"
   ]
  },
  {
   "cell_type": "code",
   "execution_count": null,
   "id": "50838cd6-8fe1-4b83-bd3f-5f6946e833e4",
   "metadata": {},
   "outputs": [],
   "source": [
    "# testing\n",
    "total_step,days = timestamp_total_step(r\"C:\\Users\\VictoriaAgain\\Downloads\\download\\90b8c2e2c843ffd77f8621c7d6ed044d\\combined_steps.csv\")\n",
    "print(total_step)"
   ]
  },
  {
   "cell_type": "code",
   "execution_count": 66,
   "id": "e923e79e-58c9-4e08-b834-a9f1691e85aa",
   "metadata": {},
   "outputs": [],
   "source": [
    "def compile_step_hr(hr_file,step_file):\n",
    "    step_arr, step_day = timestamp_total_step(step_file)\n",
    "    hr_arr, hr_day = timestamp_avg_hr(hr_file)\n",
    "    \n",
    "    list_day = []\n",
    "    list_hr = []\n",
    "    list_step = []\n",
    "\n",
    "    # smaller functions work -- same dates -- something here is WRONG\n",
    "    for i in range(np.minimum(len(hr_day),len(step_day))):  # whichever is smaller\n",
    "        hr_month = datetime.fromtimestamp(hr_day[i],tz=ZoneInfo(\"America/New_York\")).month\n",
    "        hr_datetime_day = datetime.fromtimestamp(hr_day[i],tz=ZoneInfo(\"America/New_York\")).day\n",
    "        step_month = datetime.fromtimestamp(step_day[i],tz=ZoneInfo(\"America/New_York\")).month\n",
    "        step_datetime_day = datetime.fromtimestamp(step_day[i],tz=ZoneInfo(\"America/New_York\")).day\n",
    "        \n",
    "        if (hr_month == step_month and hr_datetime_day == step_datetime_day): # checking if date is the same\n",
    "            list_day.append(hr_day[i])\n",
    "            list_hr.append(hr_arr[i])\n",
    "            list_step.append(step_arr[i])\n",
    "        elif (hr_datetime_day > step_datetime_day): # heartrate skips, go through rest of step days\n",
    "            for j in range(i,len(step_day)):\n",
    "                if (hr_month == step_month and hr_datetime_day == datetime.fromtimestamp(step_day[j],tz=ZoneInfo(\"America/New_York\")).day):\n",
    "                    list_day.append(hr_day[i])\n",
    "                    list_hr.append(hr_arr[i])\n",
    "                    list_step.append(step_arr[j])\n",
    "        elif (step_datetime_day > hr_datetime_day): # step day skips, go through rest of heart rate days\n",
    "            for k in range(i,len(hr_day)):\n",
    "                if (hr_month == step_month and step_datetime_day == datetime.fromtimestamp(hr_day[k],tz=ZoneInfo(\"America/New_York\")).day):\n",
    "                    list_day.append(hr_day[k])\n",
    "                    list_hr.append(hr_arr[k])\n",
    "                    list_step.append(step_arr[i])\n",
    "    \n",
    "    # testing\n",
    "    # list_day is correct, only shows same days in both lists\n",
    "    # for i in range(len(list_day)):\n",
    "    #     convert_day.append(datetime.fromtimestamp(list_day[i]).day)\n",
    "    # print(len(list_day),len(list_hr),len(list_step))\n",
    "    list_patient_id = [str(hr_file)[42:74]]*len(list_day)\n",
    "    # print(len(list_patient_id))\n",
    "    # print(step_arr, datetime.fromtimestamp(step_day).day, hr_arr, datetime.fromtimestamp(hr_day).day)\n",
    "    combined_arr = np.column_stack((list_patient_id,list_day,list_hr,list_step))\n",
    "    # print(combined_arr)\n",
    "    return combined_arr"
   ]
  },
  {
   "cell_type": "code",
   "execution_count": 72,
   "id": "142badab-b3bc-4510-9908-52f75dfb8758",
   "metadata": {},
   "outputs": [],
   "source": [
    "p = Path(\"C:/Users/VictoriaAgain/Downloads/download\")\n",
    "raw_files = list(p.rglob('*.csv*'))\n",
    "files = []\n",
    "all_files = []\n",
    "\n",
    "for i in range(len(raw_files)):\n",
    "    files.append(str(raw_files[i]).replace('\\\\','/'))\n",
    "for j in range(len(files)-1):\n",
    "    all_files.append(compile_step_hr(files[j],files[j+1]))\n",
    "\n",
    "final_df = pd.DataFrame(np.vstack(all_files),columns=['patient_id','timestamp','average_hr','steps'])\n",
    "final_df.to_csv('combined_files_timebased.csv',index=False,header=True)"
   ]
  },
  {
   "cell_type": "code",
   "execution_count": 82,
   "id": "3b7d7008-4b79-4dc0-9907-59fd5ad9c13a",
   "metadata": {},
   "outputs": [
    {
     "data": {
      "text/plain": [
       "<matplotlib.collections.PathCollection at 0x23f6231d880>"
      ]
     },
     "execution_count": 82,
     "metadata": {},
     "output_type": "execute_result"
    },
    {
     "data": {
      "image/png": "[encoded data removed]",
      "text/plain": [
       "<Figure size 640x480 with 1 Axes>"
      ]
     },
     "metadata": {},
     "output_type": "display_data"
    }
   ],
   "source": [
    "import matplotlib.pyplot as plt\n",
    "\n",
    "df = pd.read_csv('combined_files_timebased.csv')\n",
    "plt.scatter(df['average_hr'], df['steps'])"
   ]
  },
  {
   "cell_type": "code",
   "execution_count": 86,
   "id": "90311b52-1feb-4fa9-baca-5d5f4ab6403b",
   "metadata": {},
   "outputs": [],
   "source": [
    "df_hr = pd.read_csv('combined_files_timebased.csv')\n",
    "df_promis = pd.read_csv('data_compilation/combined_promis_scores.csv')\n",
    "\n",
    "# convert timestamp to datetime and extract month + day\n",
    "df_hr['datetime'] = pd.to_datetime(df_hr['timestamp'], unit='s')\n",
    "df_hr['month'] = df_hr['datetime'].dt.month\n",
    "df_hr['day'] = df_hr['datetime'].dt.day\n",
    "\n",
    "# filter cols\n",
    "df_hr_filtered = df_hr[['patient_id', 'month', 'day', 'average_hr', 'steps']]\n",
    "\n",
    "# merge dfs on patient_id, month, and day\n",
    "df_merged = pd.merge(df_promis, df_hr_filtered,\n",
    "                     on = ['patient_id', 'month', 'day'],\n",
    "                     how = 'inner')\n",
    "\n",
    "df_final = df_merged[['patient_id', 'month', 'day', 'average_hr', 'steps', 'promis_score']]\n",
    "df_final.columns = ['patient id', 'month', 'day', 'heartrate', 'steps', 'promis score']\n",
    "\n",
    "df_final.to_csv('final_timebased_file.csv', index=False)"
   ]
  },
  {
   "cell_type": "code",
   "execution_count": null,
   "id": "ddc2985b-a1eb-43ba-a018-21fc71b765a0",
   "metadata": {},
   "outputs": [],
   "source": []
  }
 ],
 "metadata": {
  "kernelspec": {
   "display_name": "Python 3 (ipykernel)",
   "language": "python",
   "name": "python3"
  },
  "language_info": {
   "codemirror_mode": {
    "name": "ipython",
    "version": 3
   },
   "file_extension": ".py",
   "mimetype": "text/x-python",
   "name": "python",
   "nbconvert_exporter": "python",
   "pygments_lexer": "ipython3",
   "version": "3.12.4"
  }
 },
 "nbformat": 4,
 "nbformat_minor": 5
}
