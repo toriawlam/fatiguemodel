{
 "cells": [
  {
   "cell_type": "code",
   "execution_count": 25,
   "id": "5be49228-da4d-478c-b222-96a270f0e5fa",
   "metadata": {},
   "outputs": [],
   "source": [
    "# imports\n",
    "import numpy as np\n",
    "import matplotlib.pyplot as olt\n",
    "import pandas as pd\n",
    "from sklearn.preprocessing import OrdinalEncoder\n",
    "# splits dataset into training and testing data\n",
    "from sklearn.model_selection import train_test_split\n",
    "\n",
    "from sklearn.metrics import confusion_matrix, accuracy_score\n",
    "from sklearn.metrics import mean_absolute_error, mean_squared_error\n",
    "\n",
    "from mord import OrdinalRidge"
   ]
  },
  {
   "cell_type": "code",
   "execution_count": 31,
   "id": "89403917-5388-4b65-a171-b4377d12b320",
   "metadata": {},
   "outputs": [],
   "source": [
    "# reshaping data to numerical form\n",
    "# ordinal encoder -- [0,3]\n",
    "\n",
    "file = pd.read_csv('final_avg_hr_data_updated.csv')\n",
    "df = pd.DataFrame(file)\n",
    "\n",
    "X = df[['heartrate','steps']]\n",
    "y = df[['promis score']]\n",
    "\n",
    "encoder = OrdinalEncoder(categories=[['Not fatigued at all','A little bit fatigued','Somewhat fatigued','Very fatigued']])\n",
    "# y_encoded = encoder.fit_transform(y)\n",
    "y_encoded = encoder.fit_transform(y.values.reshape(-1,1)).ravel().astype(int)\n",
    "\n",
    "df_y_encoded = pd.DataFrame(y_encoded)\n",
    "y_names = encoder.inverse_transform(y_encoded.reshape(-1,1))\n",
    "df_y_names = pd.DataFrame(y_names)\n",
    "\n",
    "map_data = [df_y_names, df_y_encoded] \n",
    "result = pd.concat(map_data, axis=1) # promis score labels and corresponding numerical value\n",
    "\n",
    "X_train, X_test, y_train, y_test = train_test_split(X, y_encoded, test_size=0.2, random_state=42) # split data into training and testing sets"
   ]
  },
  {
   "cell_type": "code",
   "execution_count": 7,
   "id": "f35a0f65-ff8e-4f54-ac11-c27a15975c6a",
   "metadata": {},
   "outputs": [
    {
     "name": "stdout",
     "output_type": "stream",
     "text": [
      "Predictions shape: (14204,)\n",
      "Probabilities shape: (14204, 4)\n"
     ]
    }
   ],
   "source": [
    "# one vs the rest strategy\n",
    "\n",
    "from sklearn.linear_model import LogisticRegression\n",
    "from sklearn.multiclass import OneVsRestClassifier\n",
    "\n",
    "model = OneVsRestClassifier(LogisticRegression())\n",
    "model.fit(X, y_encoded)\n",
    "\n",
    "predictions = model.predict(X)\n",
    "probabilities = model.predict_proba(X)\n",
    "\n",
    "print(\"Predictions shape:\", predictions.shape)\n",
    "print(\"Probabilities shape:\", probabilities.shape)"
   ]
  },
  {
   "cell_type": "code",
   "execution_count": null,
   "id": "69b4c235-9067-4930-97e7-720718b43bc4",
   "metadata": {},
   "outputs": [],
   "source": [
    "# using polynomial features\n",
    "# fix this -- ISSUE -- model.fit(X_poly, y)\n",
    "\n",
    "from mord import LogisticIT\n",
    "from sklearn.preprocessing import PolynomialFeatures\n",
    "\n",
    "poly = PolynomialFeatures(degree=2, include_bias=False)\n",
    "X_poly = poly.fit_transform(X)\n",
    "\n",
    "model = LogisticIT()\n",
    "model.fit(X_poly, y)\n",
    "\n",
    "predictions = model.predict(X_poly)\n",
    "\n",
    "print(\"Original feature shape:\", X.shape)\n",
    "print(\"Polynomial feature shape:\", X_poly.shape)\n",
    "print(\"Predictions shape:\", predictions.shape)"
   ]
  },
  {
   "cell_type": "code",
   "execution_count": null,
   "id": "7e59103c-b745-4972-8891-081875466e9d",
   "metadata": {},
   "outputs": [],
   "source": [
    "# model metric data\n",
    "# can import SMOETENC, check class dist, plot the coefficients of a model\n",
    "\n",
    "ord_reg = OrdinalRidge()\n",
    "ord_reg.fit(X_train, y_train)\n",
    "y_pred = ord_reg.predict(X_test)\n",
    "accuracy = accuracy_score(y_test, y_pred)\n",
    "mae = mean_absolute_error(y_test, y_pred)\n",
    "cm = confusion_matrix(y_test,y_pred)\n",
    "print(cm)"
   ]
  },
  {
   "cell_type": "code",
   "execution_count": null,
   "id": "461803fe-bc49-4d8d-897d-c5589c458649",
   "metadata": {},
   "outputs": [],
   "source": [
    "import seaborn as sns\n",
    "sns.heatmap(cm/np.sum(cm), annot=True,fmt='.2%', cmap='GnBu')"
   ]
  },
  {
   "cell_type": "code",
   "execution_count": 45,
   "id": "dc1c093d-4355-471d-95e4-4dc84cf4a066",
   "metadata": {},
   "outputs": [
    {
     "name": "stdout",
     "output_type": "stream",
     "text": [
      "Train Accuracy: 0.3900\n",
      "Test Accuracy: 0.3837\n",
      "heartrate: -0.0017\n",
      "steps: 0.0000\n",
      "Predicted Fatigue Level: A little bit fatigued\n"
     ]
    }
   ],
   "source": [
    "from mord import LogisticIT\n",
    "\n",
    "# X- data, y- ordinal outcome\n",
    "model = LogisticIT()\n",
    "model.fit(X_train,y_train)\n",
    "\n",
    "train_accuracy = model.score(X_train,y_train)\n",
    "test_accuracy = model.score(X_test,y_test)\n",
    "\n",
    "print(f\"Train Accuracy: {train_accuracy:.4f}\")\n",
    "print(f\"Test Accuracy: {test_accuracy:.4f}\")\n",
    "\n",
    "for feature, coef in zip(X.columns, model.coef_):\n",
    "    print(f\"{feature}: {coef:.4f}\")\n",
    "\n",
    "# for a new prediction\n",
    "new_log = np.array([[160,10000]])  # heartrate, steps\n",
    "predicted_level = model.predict(new_log)\n",
    "fatigue_levels = ['Not fatigued at all','A little bit fatigued','Somewhat fatigued','Very fatigued']\n",
    "print(f\"Predicted Fatigue Level: {fatigue_levels[predicted_level[0]]}\")"
   ]
  },
  {
   "cell_type": "code",
   "execution_count": null,
   "id": "e570e071-ef56-4383-88a9-a180d8932831",
   "metadata": {},
   "outputs": [],
   "source": []
  }
 ],
 "metadata": {
  "kernelspec": {
   "display_name": "Python 3 (ipykernel)",
   "language": "python",
   "name": "python3"
  },
  "language_info": {
   "codemirror_mode": {
    "name": "ipython",
    "version": 3
   },
   "file_extension": ".py",
   "mimetype": "text/x-python",
   "name": "python",
   "nbconvert_exporter": "python",
   "pygments_lexer": "ipython3",
   "version": "3.12.4"
  }
 },
 "nbformat": 4,
 "nbformat_minor": 5
}
