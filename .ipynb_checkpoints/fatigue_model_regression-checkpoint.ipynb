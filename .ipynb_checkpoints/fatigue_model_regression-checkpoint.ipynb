{
 "cells": [
  {
   "cell_type": "code",
   "execution_count": 13,
   "id": "5be49228-da4d-478c-b222-96a270f0e5fa",
   "metadata": {},
   "outputs": [],
   "source": [
    "# imports\n",
    "import numpy as np\n",
    "import matplotlib.pyplot as plt\n",
    "import pandas as pd\n",
    "\n",
    "# building the model\n",
    "from sklearn.preprocessing import OrdinalEncoder\n",
    "from sklearn.model_selection import train_test_split\n",
    "\n",
    "# metric functions\n",
    "from sklearn.metrics import confusion_matrix, accuracy_score\n",
    "from sklearn.metrics import mean_absolute_error, mean_squared_error\n",
    "import seaborn as sns"
   ]
  },
  {
   "cell_type": "code",
   "execution_count": 101,
   "id": "89403917-5388-4b65-a171-b4377d12b320",
   "metadata": {},
   "outputs": [],
   "source": [
    "# reshaping data -- split data into training and testing\n",
    "\n",
    "time_file = pd.read_csv('final_timebased_file.csv')\n",
    "avg_hr_file = pd.read_csv('data_compilation/final_avg_hr_data_updated.csv')\n",
    "df = pd.DataFrame(avg_hr_file)\n",
    "\n",
    "X = df[['heartrate','steps']]\n",
    "y = df[['promis score']]\n",
    "\n",
    "encoder = OrdinalEncoder(categories=[['Not fatigued at all','A little bit fatigued','Somewhat fatigued','Very fatigued']])\n",
    "# y_encoded = encoder.fit_transform(y)\n",
    "y_encoded = encoder.fit_transform(y.values.reshape(-1,1)).ravel().astype(int)\n",
    "\n",
    "df_y_encoded = pd.DataFrame(y_encoded)\n",
    "y_names = encoder.inverse_transform(y_encoded.reshape(-1,1))\n",
    "df_y_names = pd.DataFrame(y_names)\n",
    "\n",
    "map_data = [df_y_names, df_y_encoded] \n",
    "result = pd.concat(map_data, axis=1) # promis score labels and corresponding numerical value\n",
    "\n",
    "X_train, X_test, y_train, y_test = train_test_split(X, y_encoded, test_size=0.2, random_state=42) # split data into training and testing sets"
   ]
  },
  {
   "cell_type": "code",
   "execution_count": 17,
   "id": "f35a0f65-ff8e-4f54-ac11-c27a15975c6a",
   "metadata": {},
   "outputs": [],
   "source": [
    "# one vs the rest strategy\n",
    "from sklearn.linear_model import LogisticRegression\n",
    "from sklearn.multiclass import OneVsRestClassifier\n",
    "\n",
    "model = OneVsRestClassifier(LogisticRegression())\n",
    "model.fit(X, y_encoded)\n",
    "\n",
    "predictions = model.predict(X)\n",
    "probabilities = model.predict_proba(X)"
   ]
  },
  {
   "cell_type": "code",
   "execution_count": 103,
   "id": "461803fe-bc49-4d8d-897d-c5589c458649",
   "metadata": {},
   "outputs": [],
   "source": [
    "# metrics !\n",
    "from sklearn.metrics import cohen_kappa_score\n",
    "from scipy.stats import kendalltau\n",
    "\n",
    "def return_metrics():\n",
    "    # true test -- y_test, pred -- y_pred_test\n",
    "    mae = mean_absolute_error(y_test, y_pred_test)\n",
    "    tau, _ = kendalltau(y_test,y_pred_test)\n",
    "    qwk = cohen_kappa_score(y_test,y_pred_test,weights='quadratic')\n",
    "    \n",
    "    print(f\"Mean Absolute Error: {mae:.4f}\")\n",
    "    print(f\"Kendall's Tau: {tau:.4f}\")\n",
    "    print(f\"Quadratic Weighted Kappa: {qwk:.4f}\")"
   ]
  },
  {
   "cell_type": "code",
   "execution_count": null,
   "id": "ce4f0b3a-5a62-43dc-a637-f0186f967ef1",
   "metadata": {},
   "outputs": [],
   "source": [
    "# using cross validation -- helps prevent overfitting (maintains distribution by training on \"folds\")\n",
    "from sklearn.model_selection import StratifiedKFold\n",
    "from sklearn.model_selection import cross_val_score\n",
    "from sklearn.metrics import make_scorer\n",
    "from mord import OrdinalRidge\n",
    "\n",
    "def ordinal_scorer(y_true, y_pred):\n",
    "    mae = mean_absolute_error(y_true, y_pred)\n",
    "    tau, _ = kendalltau(y_true,y_pred)\n",
    "    qwk = cohen_kappa_score(y_true,y_pred,weights='quadratic')\n",
    "    return (1/mae)*(tau+qwk)/2\n",
    "\n",
    "cv = StratifiedKFold(n_splits=5,shuffle=True,random_state=42)\n",
    "scorer = make_scorer(ordinal_scorer)\n",
    "\n",
    "model = OrdinalRidge()\n",
    "# model.fit(X_train.values,y_train)\n",
    "\n",
    "scores = cross_val_score(model, X, y, cv=cv, scoring=scorer,error_score='raise')\n",
    "\n",
    "print(f\"Cross-validation scores: {scores}\")\n",
    "print(f\"Mean score: {scores.mean():.4f} (+/- {scores.std() * 2:.4f})\")"
   ]
  },
  {
   "cell_type": "code",
   "execution_count": 133,
   "id": "dc1c093d-4355-471d-95e4-4dc84cf4a066",
   "metadata": {},
   "outputs": [
    {
     "name": "stdout",
     "output_type": "stream",
     "text": [
      "Train Accuracy: 0.3900\n",
      "Test Accuracy: 0.3837\n",
      "MAE: 0.6994\n",
      "Mean Absolute Error: 0.6994\n",
      "Kendall's Tau: 0.0082\n",
      "Quadratic Weighted Kappa: 0.0022\n"
     ]
    }
   ],
   "source": [
    "from mord import LogisticIT\n",
    "from mord import LogisticAT\n",
    "from mord import OrdinalRidge\n",
    "from sklearn.metrics import accuracy_score\n",
    "from sklearn.metrics import mean_absolute_error\n",
    "\n",
    "model = LogisticIT()\n",
    "model.fit(X_train.values,y_train)\n",
    "\n",
    "# Predict class labels\n",
    "y_pred_train = model.predict(X_train.values)\n",
    "y_pred_test = model.predict(X_test.values)\n",
    "\n",
    "# Calculate classification accuracy\n",
    "train_accuracy = accuracy_score(y_train, y_pred_train)\n",
    "test_accuracy = accuracy_score(y_test, y_pred_test)\n",
    "mae = mean_absolute_error(y_test, y_pred_test)\n",
    "\n",
    "print(f\"Train Accuracy: {train_accuracy:.4f}\")\n",
    "print(f\"Test Accuracy: {test_accuracy:.4f}\")\n",
    "print(f\"MAE: {mae:.4f}\")\n",
    "\n",
    "# for feature, coef in zip(X.columns, model.coef_):\n",
    "#     print(f\"{feature}: {coef:.4f}\")\n",
    "\n",
    "return_metrics()\n",
    "\n",
    "# print(y_pred_test)"
   ]
  },
  {
   "cell_type": "code",
   "execution_count": 63,
   "id": "b948742a-1828-4cdc-ade5-49c6221263d7",
   "metadata": {},
   "outputs": [
    {
     "name": "stdout",
     "output_type": "stream",
     "text": [
      "Optimization terminated successfully.\n",
      "         Current function value: 1.239128\n",
      "         Iterations: 11\n",
      "         Function evaluations: 16\n",
      "         Gradient evaluations: 16\n"
     ]
    },
    {
     "data": {
      "text/html": [
       "<table class=\"simpletable\">\n",
       "<caption>OrderedModel Results</caption>\n",
       "<tr>\n",
       "  <th>Dep. Variable:</th>       <td>promis score</td>    <th>  Log-Likelihood:    </th> <td> -17059.</td> \n",
       "</tr>\n",
       "<tr>\n",
       "  <th>Model:</th>               <td>OrderedModel</td>    <th>  AIC:               </th> <td>3.413e+04</td>\n",
       "</tr>\n",
       "<tr>\n",
       "  <th>Method:</th>           <td>Maximum Likelihood</td> <th>  BIC:               </th> <td>3.417e+04</td>\n",
       "</tr>\n",
       "<tr>\n",
       "  <th>Date:</th>              <td>Mon, 04 Aug 2025</td>  <th>                     </th>     <td> </td>    \n",
       "</tr>\n",
       "<tr>\n",
       "  <th>Time:</th>                  <td>22:54:03</td>      <th>                     </th>     <td> </td>    \n",
       "</tr>\n",
       "<tr>\n",
       "  <th>No. Observations:</th>       <td> 13767</td>       <th>                     </th>     <td> </td>    \n",
       "</tr>\n",
       "<tr>\n",
       "  <th>Df Residuals:</th>           <td> 13762</td>       <th>                     </th>     <td> </td>    \n",
       "</tr>\n",
       "<tr>\n",
       "  <th>Df Model:</th>               <td>     2</td>       <th>                     </th>     <td> </td>    \n",
       "</tr>\n",
       "</table>\n",
       "<table class=\"simpletable\">\n",
       "<tr>\n",
       "                      <td></td>                         <th>coef</th>     <th>std err</th>      <th>z</th>      <th>P>|z|</th>  <th>[0.025</th>    <th>0.975]</th>  \n",
       "</tr>\n",
       "<tr>\n",
       "  <th>x1</th>                                        <td>-4.537e-05</td> <td>    0.001</td> <td>   -0.070</td> <td> 0.944</td> <td>   -0.001</td> <td>    0.001</td>\n",
       "</tr>\n",
       "<tr>\n",
       "  <th>x2</th>                                        <td>  -2.1e-05</td> <td> 1.39e-05</td> <td>   -1.515</td> <td> 0.130</td> <td>-4.82e-05</td> <td> 6.17e-06</td>\n",
       "</tr>\n",
       "<tr>\n",
       "  <th>Not fatigued at all/A little bit fatigued</th> <td>   -0.9763</td> <td>    0.052</td> <td>  -18.628</td> <td> 0.000</td> <td>   -1.079</td> <td>   -0.874</td>\n",
       "</tr>\n",
       "<tr>\n",
       "  <th>A little bit fatigued/Somewhat fatigued</th>   <td>    0.1344</td> <td>    0.011</td> <td>   11.779</td> <td> 0.000</td> <td>    0.112</td> <td>    0.157</td>\n",
       "</tr>\n",
       "<tr>\n",
       "  <th>Somewhat fatigued/Very fatigued</th>           <td>    0.1864</td> <td>    0.013</td> <td>   14.565</td> <td> 0.000</td> <td>    0.161</td> <td>    0.211</td>\n",
       "</tr>\n",
       "</table>"
      ],
      "text/latex": [
       "\\begin{center}\n",
       "\\begin{tabular}{lclc}\n",
       "\\toprule\n",
       "\\textbf{Dep. Variable:}                            &    promis score    & \\textbf{  Log-Likelihood:    } &   -17059.   \\\\\n",
       "\\textbf{Model:}                                    &    OrderedModel    & \\textbf{  AIC:               } & 3.413e+04   \\\\\n",
       "\\textbf{Method:}                                   & Maximum Likelihood & \\textbf{  BIC:               } & 3.417e+04   \\\\\n",
       "\\textbf{Date:}                                     &  Mon, 04 Aug 2025  & \\textbf{                     } &             \\\\\n",
       "\\textbf{Time:}                                     &      22:54:03      & \\textbf{                     } &             \\\\\n",
       "\\textbf{No. Observations:}                         &        13767       & \\textbf{                     } &             \\\\\n",
       "\\textbf{Df Residuals:}                             &        13762       & \\textbf{                     } &             \\\\\n",
       "\\textbf{Df Model:}                                 &            2       & \\textbf{                     } &             \\\\\n",
       "\\bottomrule\n",
       "\\end{tabular}\n",
       "\\begin{tabular}{lcccccc}\n",
       "                                                   & \\textbf{coef} & \\textbf{std err} & \\textbf{z} & \\textbf{P$> |$z$|$} & \\textbf{[0.025} & \\textbf{0.975]}  \\\\\n",
       "\\midrule\n",
       "\\textbf{x1}                                        &   -4.537e-05  &        0.001     &    -0.070  &         0.944        &       -0.001    &        0.001     \\\\\n",
       "\\textbf{x2}                                        &     -2.1e-05  &     1.39e-05     &    -1.515  &         0.130        &    -4.82e-05    &     6.17e-06     \\\\\n",
       "\\textbf{Not fatigued at all/A little bit fatigued} &      -0.9763  &        0.052     &   -18.628  &         0.000        &       -1.079    &       -0.874     \\\\\n",
       "\\textbf{A little bit fatigued/Somewhat fatigued}   &       0.1344  &        0.011     &    11.779  &         0.000        &        0.112    &        0.157     \\\\\n",
       "\\textbf{Somewhat fatigued/Very fatigued}           &       0.1864  &        0.013     &    14.565  &         0.000        &        0.161    &        0.211     \\\\\n",
       "\\bottomrule\n",
       "\\end{tabular}\n",
       "%\\caption{OrderedModel Results}\n",
       "\\end{center}"
      ],
      "text/plain": [
       "<class 'statsmodels.iolib.summary.Summary'>\n",
       "\"\"\"\n",
       "                             OrderedModel Results                             \n",
       "==============================================================================\n",
       "Dep. Variable:           promis score   Log-Likelihood:                -17059.\n",
       "Model:                   OrderedModel   AIC:                         3.413e+04\n",
       "Method:            Maximum Likelihood   BIC:                         3.417e+04\n",
       "Date:                Mon, 04 Aug 2025                                         \n",
       "Time:                        22:54:03                                         \n",
       "No. Observations:               13767                                         \n",
       "Df Residuals:                   13762                                         \n",
       "Df Model:                           2                                         \n",
       "=============================================================================================================\n",
       "                                                coef    std err          z      P>|z|      [0.025      0.975]\n",
       "-------------------------------------------------------------------------------------------------------------\n",
       "x1                                        -4.537e-05      0.001     -0.070      0.944      -0.001       0.001\n",
       "x2                                          -2.1e-05   1.39e-05     -1.515      0.130   -4.82e-05    6.17e-06\n",
       "Not fatigued at all/A little bit fatigued    -0.9763      0.052    -18.628      0.000      -1.079      -0.874\n",
       "A little bit fatigued/Somewhat fatigued       0.1344      0.011     11.779      0.000       0.112       0.157\n",
       "Somewhat fatigued/Very fatigued               0.1864      0.013     14.565      0.000       0.161       0.211\n",
       "=============================================================================================================\n",
       "\"\"\""
      ]
     },
     "execution_count": 63,
     "metadata": {},
     "output_type": "execute_result"
    }
   ],
   "source": [
    "# using a stats model for ordinal probit regression\n",
    "\n",
    "from pandas.api.types import CategoricalDtype\n",
    "from statsmodels.miscmodels.ordinal_model import OrderedModel\n",
    "\n",
    "type = CategoricalDtype(categories=['Not fatigued at all','A little bit fatigued','Somewhat fatigued','Very fatigued'],ordered=True)\n",
    "df['promis score'] = df['promis score'].astype(type)\n",
    "\n",
    "mod_prob = OrderedModel(df['promis score'],df[['heartrate','steps']].values,distr='probit')\n",
    "res_prob = mod_prob.fit(method='bfgs')\n",
    "res_prob.summary()"
   ]
  },
  {
   "cell_type": "code",
   "execution_count": 135,
   "id": "9f102ea4-f8ad-4406-8451-c46718c8c011",
   "metadata": {},
   "outputs": [
    {
     "data": {
      "text/plain": [
       "Text(0.5, 1.0, 'Normalized Confusion Matrix')"
      ]
     },
     "execution_count": 135,
     "metadata": {},
     "output_type": "execute_result"
    },
    {
     "data": {
      "image/png": "[encoded data removed]",
      "text/plain": [
       "<Figure size 640x480 with 2 Axes>"
      ]
     },
     "metadata": {},
     "output_type": "display_data"
    }
   ],
   "source": [
    "cm = confusion_matrix(y_test, y_pred_test)\n",
    "df_preds = pd.DataFrame({\"True\": y_test,\n",
    "                         \"Predicted\": y_pred_test})\n",
    "\n",
    "# graph visualization\n",
    "sns.countplot(x=\"True\", data=df_preds, label=\"True\", color=\"skyblue\")\n",
    "sns.countplot(x=\"Predicted\", data=df_preds, label=\"Predicted\", color=\"salmon\", alpha=0.6)\n",
    "plt.legend()\n",
    "plt.title(\"Distribution of True vs Predicted Labels\")\n",
    "plt.show()\n",
    "\n",
    "# confusion matrix\n",
    "sns.heatmap(cm/np.sum(cm), annot=True,fmt='.2%', cmap='GnBu')\n",
    "plt.xlabel(\"Predicted\")\n",
    "plt.ylabel(\"True\")\n",
    "plt.title(\"Normalized Confusion Matrix\")"
   ]
  },
  {
   "cell_type": "code",
   "execution_count": null,
   "id": "a86f2a28-b2f2-408e-b83e-1b76c27ddcbf",
   "metadata": {},
   "outputs": [],
   "source": []
  }
 ],
 "metadata": {
  "kernelspec": {
   "display_name": "Python 3 (ipykernel)",
   "language": "python",
   "name": "python3"
  },
  "language_info": {
   "codemirror_mode": {
    "name": "ipython",
    "version": 3
   },
   "file_extension": ".py",
   "mimetype": "text/x-python",
   "name": "python",
   "nbconvert_exporter": "python",
   "pygments_lexer": "ipython3",
   "version": "3.12.4"
  }
 },
 "nbformat": 4,
 "nbformat_minor": 5
}
