{
 "cells": [
  {
   "cell_type": "code",
   "execution_count": 3,
   "id": "540ccfb4-2688-4c6b-8f5e-45ecdcd4cb47",
   "metadata": {},
   "outputs": [],
   "source": [
    "# compiling files based on hour before fatigue surveys recorded\n",
    "\n",
    "from pathlib import Path\n",
    "from collections import namedtuple\n",
    "from zoneinfo import ZoneInfo\n",
    "from datetime import datetime\n",
    "import os\n",
    "import glob\n",
    "import json\n",
    "import pandas as pd\n",
    "import numpy as np\n",
    "\n",
    "# steps!\n",
    "# get list of promis score csv (found) -- time is from 11-12\n",
    "# using patient_id and month/day, correspond with combined heartrate and steps csv files\n",
    "# find average heartrate from 11-12 on those days\n",
    "# find steps from 11-12 on those days\n"
   ]
  },
  {
   "cell_type": "code",
   "execution_count": 63,
   "id": "67f561fb-022b-4bc1-840b-c5704b908fbf",
   "metadata": {},
   "outputs": [],
   "source": [
    "def timestamp_avg_hr(csv_file):\n",
    "    list_avg_hr = []\n",
    "    list_day_hr = []\n",
    "    \n",
    "    df = pd.read_csv(csv_file)\n",
    "\n",
    "    if df.empty or 'timestamp' not in df.columns or 'heartrate' not in df.columns:\n",
    "        return [],[]\n",
    "\n",
    "    unix_val = df['timestamp'].loc[0]\n",
    "    temp_hr_sum = 0\n",
    "    counter = 0\n",
    "\n",
    "    for i in range(1,len(df['timestamp'])): # iterates through each row\n",
    "        timestamp = df['timestamp'].loc[i] # the timestamp value at that row\n",
    "        temp_hour_curr = datetime.fromtimestamp(val,tz=ZoneInfo(\"America/New_York\")).hour # hour (int)\n",
    "        temp_hour_prev = datetime.fromtimestamp(df['timestamp'].loc[i-1],tz=ZoneInfo(\"America/New_York\")).hour\n",
    "        \n",
    "        if temp_hour_curr == 11:\n",
    "            counter += 1\n",
    "            temp_hr_sum += df['heartrate'].loc[i]\n",
    "            unix_val = timestamp\n",
    "        elif temp_hour_curr != 11 and temp_hour_prev == 11: # and last hour was 11\n",
    "            if (counter != 0):\n",
    "                list_day_hr.append(unix_val) # add day to list\n",
    "                avg_hr = temp_hr_sum/counter\n",
    "                list_avg_hr.append(avg_hr)\n",
    "\n",
    "                temp_hr_sum = 0\n",
    "                counter = 0\n",
    "\n",
    "    # for last day otherwise not included\n",
    "    if (counter != 0):\n",
    "        temp_unix = df['timestamp'].loc[len(df.index)-1]\n",
    "        list_day_hr.append(temp_unix)\n",
    "        avg_hr = temp_hr_sum/counter\n",
    "        list_avg_hr.append(avg_hr)\n",
    "            \n",
    "    return list_avg_hr, list_day_hr"
   ]
  },
  {
   "cell_type": "code",
   "execution_count": null,
   "id": "493f2fe2-5e8a-4d74-a188-c502e239291d",
   "metadata": {},
   "outputs": [],
   "source": [
    "# next steps + testing git commits\n",
    "# find steps from 11-12 for every day\n",
    "# merge lists for heart rate and steps"
   ]
  }
 ],
 "metadata": {
  "kernelspec": {
   "display_name": "Python 3 (ipykernel)",
   "language": "python",
   "name": "python3"
  },
  "language_info": {
   "codemirror_mode": {
    "name": "ipython",
    "version": 3
   },
   "file_extension": ".py",
   "mimetype": "text/x-python",
   "name": "python",
   "nbconvert_exporter": "python",
   "pygments_lexer": "ipython3",
   "version": "3.12.4"
  }
 },
 "nbformat": 4,
 "nbformat_minor": 5
}
