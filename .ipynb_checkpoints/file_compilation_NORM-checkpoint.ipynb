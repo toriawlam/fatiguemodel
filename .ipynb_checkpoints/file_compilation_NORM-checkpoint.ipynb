{
 "cells": [
  {
   "cell_type": "code",
   "execution_count": 3,
   "id": "47dac91d-b7b6-4a2b-b47d-f562449f7c88",
   "metadata": {},
   "outputs": [],
   "source": [
    "# combine timebased heartrate, min, max, and average heartrate, and then total steps for the day\n",
    "import pandas as pd\n",
    "from datetime import datetime\n",
    "from zoneinfo import ZoneInfo"
   ]
  },
  {
   "cell_type": "code",
   "execution_count": 63,
   "id": "1907b892-89ed-4fed-aa6b-daddcf8a5380",
   "metadata": {},
   "outputs": [],
   "source": [
    "# go through each csv file, compare patient id and date using datetime\n",
    "# append all to temporary array, add temporary array to list\n",
    "# convert list into csv file\n",
    "\n",
    "df_avg = pd.read_csv('combined_avg_hr_NORM.csv')\n",
    "df_time = pd.read_csv('combined_timebased_NORM.csv')\n",
    "df_minmax = pd.read_csv('combined_minmax_NORM.csv')\n",
    "df_promis = pd.read_csv('data_compilation/combined_promis_scores.csv')\n",
    "\n",
    "# using inner join will only combined rows that have the same patient id and time\n",
    "# merge on patient_id and time -- need to convert though\n",
    "df_avg['timestamp'] = pd.to_datetime(df_avg['timestamp'], unit='s')\n",
    "df_avg['month'] = df_avg['timestamp'].dt.month\n",
    "df_avg['day'] = df_avg['timestamp'].dt.day\n",
    "df_avg = df_avg.drop('timestamp', axis=1)\n",
    "df_avg.rename(columns={'steps':'avg_steps'}, inplace=True)\n",
    "\n",
    "df_time['timestamp'] = pd.to_datetime(df_time['timestamp'], unit='s')\n",
    "df_time['month'] = df_time['timestamp'].dt.month\n",
    "df_time['day'] = df_time['timestamp'].dt.day\n",
    "df_time = df_time.drop('timestamp', axis=1)\n",
    "df_time.rename(columns={'average_hr':'time_hr', 'steps':'time_steps'},inplace=True)\n",
    "\n",
    "df_minmax['timestamp'] = pd.to_datetime(df_minmax['timestamp'], unit='s')\n",
    "df_minmax['month'] = df_minmax['timestamp'].dt.month\n",
    "df_minmax['day'] = df_minmax['timestamp'].dt.day\n",
    "df_minmax = df_minmax.drop('timestamp', axis=1)\n",
    "df_minmax.rename(columns={'steps':'minmax_steps'}, inplace=True)\n",
    "\n",
    "df_merged = pd.merge(df_avg, df_time,\n",
    "                     on = ['patient_id', 'month', 'day'],\n",
    "                     how = 'inner')\n",
    "df_merged = pd.merge(df_merged, df_minmax,\n",
    "                     on = ['patient_id', 'month', 'day'],\n",
    "                     how = 'inner')\n",
    "df_merged = pd.merge(df_merged, df_promis,\n",
    "                     on = ['patient_id', 'month', 'day'],\n",
    "                     how = 'inner')\n",
    "df_merged = df_merged.drop(['minmax_steps', 'time_steps'], axis=1)\n",
    "df_merged.to_csv('final_data_NORM.csv',index=False)"
   ]
  },
  {
   "cell_type": "code",
   "execution_count": null,
   "id": "47b3f191-2896-4ced-b86c-be8e656248b4",
   "metadata": {},
   "outputs": [],
   "source": []
  }
 ],
 "metadata": {
  "kernelspec": {
   "display_name": "Python 3 (ipykernel)",
   "language": "python",
   "name": "python3"
  },
  "language_info": {
   "codemirror_mode": {
    "name": "ipython",
    "version": 3
   },
   "file_extension": ".py",
   "mimetype": "text/x-python",
   "name": "python",
   "nbconvert_exporter": "python",
   "pygments_lexer": "ipython3",
   "version": "3.12.4"
  }
 },
 "nbformat": 4,
 "nbformat_minor": 5
}
