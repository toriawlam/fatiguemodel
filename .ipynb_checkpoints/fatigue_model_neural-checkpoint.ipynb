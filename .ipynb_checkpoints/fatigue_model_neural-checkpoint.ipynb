{
 "cells": [
  {
   "cell_type": "code",
   "execution_count": 7,
   "id": "4df42fed-9be0-4d96-989c-cb0ee9dfe2b4",
   "metadata": {},
   "outputs": [],
   "source": [
    "# imports\n",
    "import numpy as np\n",
    "import matplotlib.pyplot as plt\n",
    "import pandas as pd\n",
    "import lightgbm as lgb\n",
    "import seaborn as sns\n",
    "\n",
    "from sklearn.preprocessing import OrdinalEncoder\n",
    "from sklearn.model_selection import train_test_split\n",
    "from sklearn.metrics import accuracy_score, log_loss, precision_score"
   ]
  },
  {
   "cell_type": "code",
   "execution_count": 3,
   "id": "240fb4de-5e5b-4940-a50f-e0e192447712",
   "metadata": {},
   "outputs": [],
   "source": [
    "avg_hr_file = pd.read_csv('data_compilation/final_avg_hr_data_updated.csv')\n",
    "df = pd.DataFrame(avg_hr_file)\n",
    "\n",
    "X = df[['heartrate','steps']]\n",
    "y = df[['promis score']]\n",
    "\n",
    "encoder = OrdinalEncoder(categories=[['Not fatigued at all','A little bit fatigued','Somewhat fatigued','Very fatigued']])\n",
    "y_encoded = encoder.fit_transform(y.values.reshape(-1,1)).ravel().astype(int)\n",
    "\n",
    "df_y_encoded = pd.DataFrame(y_encoded)\n",
    "y_names = encoder.inverse_transform(y_encoded.reshape(-1,1))\n",
    "df_y_names = pd.DataFrame(y_names)\n",
    "\n",
    "map_data = [df_y_names, df_y_encoded]\n",
    "result = pd.concat(map_data, axis=1)\n",
    "\n",
    "X_train, X_test, y_train, y_test = train_test_split(X, y_encoded, test_size=0.2, random_state=42)"
   ]
  },
  {
   "cell_type": "code",
   "execution_count": 13,
   "id": "2a921cc6-71de-442e-a2e5-1137b6bc9d22",
   "metadata": {},
   "outputs": [
    {
     "name": "stdout",
     "output_type": "stream",
     "text": [
      "[LightGBM] [Warning] Provided parameters constrain tree depth (max_depth=10) without explicitly setting 'num_leaves'. This can lead to underfitting. To resolve this warning, pass 'num_leaves' (<=1024) in params. Alternatively, pass (max_depth=-1) and just use 'num_leaves' to constrain model complexity.\n",
      "[LightGBM] [Warning] Provided parameters constrain tree depth (max_depth=10) without explicitly setting 'num_leaves'. This can lead to underfitting. To resolve this warning, pass 'num_leaves' (<=1024) in params. Alternatively, pass (max_depth=-1) and just use 'num_leaves' to constrain model complexity.\n",
      "[LightGBM] [Info] Auto-choosing col-wise multi-threading, the overhead of testing was 0.000454 seconds.\n",
      "You can set `force_col_wise=true` to remove the overhead.\n",
      "[LightGBM] [Info] Total Bins 510\n",
      "[LightGBM] [Info] Number of data points in the train set: 11363, number of used features: 2\n",
      "[LightGBM] [Info] Start training from score -1.717903\n",
      "[LightGBM] [Info] Start training from score -0.932527\n",
      "[LightGBM] [Info] Start training from score -1.073239\n",
      "[LightGBM] [Info] Start training from score -2.463919\n"
     ]
    },
    {
     "data": {
      "text/plain": [
       "array([[0.21845331, 0.3115458 , 0.41720033, 0.05280056],\n",
       "       [0.17614819, 0.3994554 , 0.33438625, 0.09001015],\n",
       "       [0.11824165, 0.42622007, 0.34276807, 0.11277022],\n",
       "       ...,\n",
       "       [0.13499703, 0.51402634, 0.28846529, 0.06251134],\n",
       "       [0.24651846, 0.40422821, 0.3108757 , 0.03837763],\n",
       "       [0.12716663, 0.27522937, 0.39204553, 0.20555846]])"
      ]
     },
     "execution_count": 13,
     "metadata": {},
     "output_type": "execute_result"
    }
   ],
   "source": [
    "data_train = lgb.Dataset(X_train, label=y_train)\n",
    "params={}\n",
    "params['learning_rate']=0.03\n",
    "params['boosting_type']='gbdt'\n",
    "params['objective']='multiclass'\n",
    "params['metric']='multi_logloss'\n",
    "params['max_depth']=10\n",
    "params['num_class']=4\n",
    "\n",
    "clf=lgb.train(params,data_train,100) # 100 epochs\n",
    "\n",
    "y_pred_test = clf.predict(X_test)\n",
    "# precision_score(y_pred_test,y_test,average=None).mean()\n",
    "# print(precision_score)\n",
    "y_pred_test"
   ]
  },
  {
   "cell_type": "code",
   "execution_count": null,
   "id": "82449687-e227-4c64-ad71-253508254a79",
   "metadata": {},
   "outputs": [],
   "source": []
  }
 ],
 "metadata": {
  "kernelspec": {
   "display_name": "Python 3 (ipykernel)",
   "language": "python",
   "name": "python3"
  },
  "language_info": {
   "codemirror_mode": {
    "name": "ipython",
    "version": 3
   },
   "file_extension": ".py",
   "mimetype": "text/x-python",
   "name": "python",
   "nbconvert_exporter": "python",
   "pygments_lexer": "ipython3",
   "version": "3.12.4"
  }
 },
 "nbformat": 4,
 "nbformat_minor": 5
}
